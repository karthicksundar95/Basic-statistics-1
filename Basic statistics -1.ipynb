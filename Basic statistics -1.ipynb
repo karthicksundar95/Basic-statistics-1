{
 "cells": [
  {
   "cell_type": "code",
   "execution_count": 5,
   "metadata": {},
   "outputs": [],
   "source": [
    "import numpy as np\n",
    "import matplotlib.pyplot as plt"
   ]
  },
  {
   "cell_type": "markdown",
   "metadata": {},
   "source": [
    "## Plot a gaussian/normal distribution using \"randn()\""
   ]
  },
  {
   "cell_type": "markdown",
   "metadata": {},
   "source": [
    "**randn()** select points in random from a standard normal/gaussian distribution(mean = 0;std = 1)"
   ]
  },
  {
   "cell_type": "code",
   "execution_count": 4,
   "metadata": {},
   "outputs": [],
   "source": [
    "np.random.seed(42)"
   ]
  },
  {
   "cell_type": "code",
   "execution_count": 15,
   "metadata": {},
   "outputs": [],
   "source": [
    "d = np.random.randn(50000)"
   ]
  },
  {
   "cell_type": "code",
   "execution_count": 16,
   "metadata": {},
   "outputs": [
    {
     "data": {
      "image/png": "[encoded data removed]",
      "text/plain": [
       "<Figure size 432x288 with 1 Axes>"
      ]
     },
     "metadata": {
      "needs_background": "light"
     },
     "output_type": "display_data"
    }
   ],
   "source": [
    "plt.hist(d)\n",
    "plt.show()"
   ]
  },
  {
   "cell_type": "markdown",
   "metadata": {},
   "source": [
    "To kind of produce a gaussian distribution of desired mean and standard deviation\n",
    "- multiply standard deviation to the random number\n",
    "- add the mean to the above value"
   ]
  },
  {
   "cell_type": "code",
   "execution_count": 17,
   "metadata": {},
   "outputs": [
    {
     "data": {
      "image/png": "[encoded data removed]",
      "text/plain": [
       "<Figure size 432x288 with 1 Axes>"
      ]
     },
     "metadata": {
      "needs_background": "light"
     },
     "output_type": "display_data"
    }
   ],
   "source": [
    "d = 5 * np.random.randn(50000) + 50\n",
    "plt.hist(d)\n",
    "plt.show()"
   ]
  },
  {
   "cell_type": "code",
   "execution_count": 18,
   "metadata": {},
   "outputs": [
    {
     "data": {
      "image/png": "[encoded data removed]",
      "text/plain": [
       "<Figure size 432x288 with 1 Axes>"
      ]
     },
     "metadata": {
      "needs_background": "light"
     },
     "output_type": "display_data"
    }
   ],
   "source": [
    "d = 5 * np.random.randn(50000) + 50\n",
    "plt.hist(d, bins=500)\n",
    "plt.show()"
   ]
  },
  {
   "cell_type": "markdown",
   "metadata": {},
   "source": [
    "### Central tendency of distribution"
   ]
  },
  {
   "cell_type": "markdown",
   "metadata": {},
   "source": [
    "One of the two most important central measure for a gaussian distribution is **MEAN**\n",
    "\n",
    "\n",
    "**\"Mean\"** - Average of the observations\n",
    "\n",
    "mu - 1/N(summation(all data samples))  where **N** = Total number of observations in the **population**\n",
    "\n",
    "\n",
    "x-bar - 1/n(summation(all data samples)) where **n** = Total number of oberervations in the **Sample**"
   ]
  },
  {
   "cell_type": "code",
   "execution_count": 19,
   "metadata": {},
   "outputs": [
    {
     "name": "stdout",
     "output_type": "stream",
     "text": [
      "Mean 50.00\n"
     ]
    }
   ],
   "source": [
    "d = 5 * np.random.randn(50000) + 50\n",
    "\n",
    "mean = np.mean(d)\n",
    "print(\"Mean %.2f\" %mean)"
   ]
  },
  {
   "cell_type": "markdown",
   "metadata": {},
   "source": [
    "Thus the mean value exactly complies with the actual mean which we used to compute the random number for the distribution"
   ]
  },
  {
   "cell_type": "markdown",
   "metadata": {},
   "source": [
    "**Median**\n",
    "\n",
    "**Skewness**:\n",
    "There are situations in the data distribution where they may be rare/minimal occurances of extreme high or low values\n",
    "\n",
    "This causes skewness in the distribution plot, thus making an **non-gaussian** distribution.\n",
    "In such a case Mean will be a misleading measure of central tendency as they tend to move towards the skewness direction.\n",
    "\n",
    "Hence it is wise to choose **Median** as central tendency for **non-gaussian** diustributions"
   ]
  },
  {
   "cell_type": "code",
   "execution_count": 22,
   "metadata": {},
   "outputs": [
    {
     "name": "stdout",
     "output_type": "stream",
     "text": [
      "Median 49.96\n"
     ]
    }
   ],
   "source": [
    "d = 5 * np.random.randn(50000) + 50\n",
    "\n",
    "median = np.median(d)\n",
    "print(\"Median %.2f\" %median)"
   ]
  },
  {
   "cell_type": "markdown",
   "metadata": {},
   "source": [
    "Since the distribution we are dealing here is gaussian both mean and median are approximately equal"
   ]
  },
  {
   "cell_type": "markdown",
   "metadata": {},
   "source": [
    "**Mode**\n",
    "Most frequently occuring observation in the data sample"
   ]
  },
  {
   "cell_type": "markdown",
   "metadata": {},
   "source": [
    "**Variance** - \n",
    "It is the measure of the deviation of data points from the mean of the distribution and is usually an averaged out value\n",
    "\n",
    "for population (s^2) = 1/N(x - mean)^2"
   ]
  },
  {
   "cell_type": "code",
   "execution_count": 24,
   "metadata": {},
   "outputs": [
    {
     "name": "stdout",
     "output_type": "stream",
     "text": [
      "Variance 25.12\n"
     ]
    }
   ],
   "source": [
    "d = 5 * np.random.randn(50000) + 50\n",
    "\n",
    "variance = np.var(d)\n",
    "print(\"Variance %.2f\" %variance)"
   ]
  },
  {
   "cell_type": "markdown",
   "metadata": {},
   "source": [
    "**Standard deviation**(s):\n",
    "\n",
    "It is the standardized form of variance, nullifying the squred format of calculation.\n",
    "\n",
    "Thus s = sqrt(1/N (x- mean)^2)"
   ]
  },
  {
   "cell_type": "code",
   "execution_count": 25,
   "metadata": {},
   "outputs": [
    {
     "name": "stdout",
     "output_type": "stream",
     "text": [
      "Standard deviation 5.01\n"
     ]
    }
   ],
   "source": [
    "d = 5 * np.random.randn(50000) + 50\n",
    "\n",
    "std = np.std(d)\n",
    "print(\"Standard deviation %.2f\" %std)"
   ]
  },
  {
   "cell_type": "markdown",
   "metadata": {},
   "source": [
    "This shows that the standard deviation calulated complies with the std =5 used for generating the sample"
   ]
  },
  {
   "cell_type": "markdown",
   "metadata": {},
   "source": [
    "**Mean and Standard Deviation** are the key most import elements in decribing a gaussian distribution"
   ]
  },
  {
   "cell_type": "markdown",
   "metadata": {},
   "source": [
    "## Simple data visualization "
   ]
  },
  {
   "cell_type": "markdown",
   "metadata": {},
   "source": [
    "Statistics provides us with all quantitative understanding of data. Where as it is very important to visualize the data to sense qualitative understanding as well\n",
    "\n",
    "Top 5 basic must-know plots to get started with visaualization are:\n",
    "- Line graph\n",
    "- Bar/Column chart\n",
    "- scatter plot\n",
    "- histogram\n",
    "- box and whisker plot "
   ]
  },
  {
   "cell_type": "markdown",
   "metadata": {},
   "source": [
    "##### Line plot"
   ]
  },
  {
   "cell_type": "markdown",
   "metadata": {},
   "source": [
    "Inorder to represent data collected over regular intervals we can use **Line Plot**\n",
    "\n",
    "The x-axis holds the regular interval measure - ex: time\n",
    "The y-axis holds the scale of observational measure - ex: weight\n",
    "\n",
    "Matplotlib.pyplot can be used to plot any visualization of data. To plot a line graph, we use a function called as **.plot(x, y)** where x & y is regular interval and observational measures respectively"
   ]
  },
  {
   "cell_type": "code",
   "execution_count": 8,
   "metadata": {},
   "outputs": [],
   "source": [
    "x = [x/10 for x in range(100)] #scale values between 0.0 and 10.0\n",
    "\n",
    "y = np.sin(x)"
   ]
  },
  {
   "cell_type": "code",
   "execution_count": 9,
   "metadata": {},
   "outputs": [
    {
     "data": {
      "image/png": "[encoded data removed]",
      "text/plain": [
       "<Figure size 432x288 with 1 Axes>"
      ]
     },
     "metadata": {
      "needs_background": "light"
     },
     "output_type": "display_data"
    }
   ],
   "source": [
    "plt.plot(x,y)\n",
    "plt.show()"
   ]
  },
  {
   "cell_type": "markdown",
   "metadata": {},
   "source": [
    "##### Bar plot"
   ]
  },
  {
   "cell_type": "markdown",
   "metadata": {},
   "source": [
    "Bar plot is famous for plotting quantities of different category data. \n",
    "\n",
    "This plot takes in,\n",
    "\n",
    "x-axis is the category names as labels\n",
    "\n",
    "y-axis is the value corresponding to it"
   ]
  },
  {
   "cell_type": "code",
   "execution_count": 11,
   "metadata": {},
   "outputs": [],
   "source": [
    "from random import randint\n",
    "\n",
    "x = ['red', 'green', 'yellow']\n",
    "\n",
    "y = [randint(0,50), randint(0,50), randint(0,50)]"
   ]
  },
  {
   "cell_type": "code",
   "execution_count": 13,
   "metadata": {},
   "outputs": [
    {
     "data": {
      "image/png": "[encoded data removed]",
      "text/plain": [
       "<Figure size 432x288 with 1 Axes>"
      ]
     },
     "metadata": {
      "needs_background": "light"
     },
     "output_type": "display_data"
    }
   ],
   "source": [
    "plt.bar(x,y)\n",
    "plt.show()"
   ]
  },
  {
   "cell_type": "markdown",
   "metadata": {},
   "source": [
    "##### Histogram"
   ]
  },
  {
   "cell_type": "markdown",
   "metadata": {},
   "source": [
    "Histogram are an exciting visualization technique to represent the distribution of data\n",
    "\n",
    "The data can be plotted as histogram using **.hist()**\n",
    "\n",
    "x-axis is the range/intervals/group/bins of the data range presented\n",
    "\n",
    "y-axis is the fequency of obervations within each bins/buckets\n"
   ]
  },
  {
   "cell_type": "code",
   "execution_count": 20,
   "metadata": {},
   "outputs": [
    {
     "data": {
      "image/png": "[encoded data removed]",
      "text/plain": [
       "<Figure size 432x288 with 1 Axes>"
      ]
     },
     "metadata": {
      "needs_background": "light"
     },
     "output_type": "display_data"
    }
   ],
   "source": [
    "x = np.random.randn(1000)\n",
    "\n",
    "plt.hist(x, bins=10)\n",
    "plt.show()"
   ]
  },
  {
   "cell_type": "markdown",
   "metadata": {},
   "source": [
    "##### Box plot"
   ]
  },
  {
   "cell_type": "markdown",
   "metadata": {},
   "source": [
    "Box plot is an alternative to histogram to represent the ditribution of data (mostly when the distribution is non-gaussian we go for box plot)\n",
    "\n",
    "x-axis consists of the range. For each range,\n",
    "\n",
    "- box represents the 50% data range( 25th percentile to 75th percentile)\n",
    "- line represents the median value of the distribution\n",
    "- two whiskers shows the range of sensible values( IQR)\n",
    "- the outliers are presented by circles outside the whiskers"
   ]
  },
  {
   "cell_type": "code",
   "execution_count": 23,
   "metadata": {},
   "outputs": [
    {
     "data": {
      "image/png": "[encoded data removed]",
      "text/plain": [
       "<Figure size 432x288 with 1 Axes>"
      ]
     },
     "metadata": {
      "needs_background": "light"
     },
     "output_type": "display_data"
    }
   ],
   "source": [
    "x = [np.random.randn(1000), 5*np.random.randn(1000), 50*np.random.randn(1000)]\n",
    "\n",
    "plt.boxplot(x)\n",
    "plt.show()"
   ]
  },
  {
   "cell_type": "markdown",
   "metadata": {},
   "source": [
    "##### Scatter plot "
   ]
  },
  {
   "cell_type": "markdown",
   "metadata": {},
   "source": [
    "This plot will help us in visualizing the relationship between variables. Best to understand if there is correlation between them.\n",
    "\n",
    "Moreover the axis values are,\n",
    "\n",
    "- x-axis has one variable values\n",
    "\n",
    "- y-axis has second variable values\n",
    "\n",
    "**.scatter()** is used to produce a scatter plot"
   ]
  },
  {
   "cell_type": "code",
   "execution_count": 25,
   "metadata": {},
   "outputs": [
    {
     "data": {
      "image/png": "[encoded data removed]",
      "text/plain": [
       "<Figure size 432x288 with 1 Axes>"
      ]
     },
     "metadata": {
      "needs_background": "light"
     },
     "output_type": "display_data"
    }
   ],
   "source": [
    "x = 5*np.random.randn(1000) +50\n",
    "\n",
    "y = x +(10*np.random.randn(1000) +50)\n",
    "\n",
    "plt.scatter(x,y)\n",
    "plt.show()"
   ]
  }
 ],
 "metadata": {
  "kernelspec": {
   "display_name": "Python 3",
   "language": "python",
   "name": "python3"
  },
  "language_info": {
   "codemirror_mode": {
    "name": "ipython",
    "version": 3
   },
   "file_extension": ".py",
   "mimetype": "text/x-python",
   "name": "python",
   "nbconvert_exporter": "python",
   "pygments_lexer": "ipython3",
   "version": "3.6.10"
  }
 },
 "nbformat": 4,
 "nbformat_minor": 4
}
